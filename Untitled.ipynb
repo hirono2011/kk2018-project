{
 "cells": [
  {
   "cell_type": "code",
   "execution_count": 1,
   "metadata": {},
   "outputs": [
    {
     "name": "stdout",
     "output_type": "stream",
     "text": [
      "<class 'list'>\n",
      "['.directory', 'list', 'org', 'kk-package_back-20190617', '.git', 't', '平成4年傷害・準強姦被告事件につき、市場急配センターの殺人未遂事件として再捜査の要請書（一太郎作成）', 'topic.txt', 'tmp', 'kk', 'dot-auto-git-push.sh', 'Untitled.ipynb', 'win10.txt', 'kk-package', 'cmd.txt', '.ipynb_checkpoints']\n"
     ]
    }
   ],
   "source": [
    "import os\n",
    "\n",
    "path = \"./\"\n",
    "\n",
    "files = os.listdir(path)\n",
    "print(type(files))  # <class 'list'>\n",
    "print(files)        # "
   ]
  },
  {
   "cell_type": "code",
   "execution_count": 2,
   "metadata": {},
   "outputs": [
    {
     "data": {
      "text/html": [
       "<blockquote class=\"twitter-tweet\"><p lang=\"ja\" dir=\"ltr\">自分の気にくわない裁判を扱う弁護士を、食えない、底辺の弁護士が金目当てで、ってよく聞くけれども、<br>そういう事件に限って、実は経済的に全然ペイしないことが多い。<br>セクハラ、パワハラ、性犯罪、労働、医療、家事とか。<br>（・∀・；）</p>&mdash; 深澤諭史 (@fukazawas) <a href=\"https://twitter.com/fukazawas/status/1159415854947155968?ref_src=twsrc%5Etfw\">August 8, 2019</a></blockquote> <script async src=\"https://platform.twitter.com/widgets.js\" charset=\"utf-8\"></script>"
      ],
      "text/plain": [
       "<IPython.core.display.HTML object>"
      ]
     },
     "execution_count": 2,
     "metadata": {},
     "output_type": "execute_result"
    }
   ],
   "source": [
    "from IPython.display import HTML\n",
    "HTML('<blockquote class=\"twitter-tweet\"><p lang=\"ja\" dir=\"ltr\">自分の気にくわない裁判を扱う弁護士を、食えない、底辺の弁護士が金目当てで、ってよく聞くけれども、<br>そういう事件に限って、実は経済的に全然ペイしないことが多い。<br>セクハラ、パワハラ、性犯罪、労働、医療、家事とか。<br>（・∀・；）</p>&mdash; 深澤諭史 (@fukazawas) <a href=\"https://twitter.com/fukazawas/status/1159415854947155968?ref_src=twsrc%5Etfw\">August 8, 2019</a></blockquote> <script async src=\"https://platform.twitter.com/widgets.js\" charset=\"utf-8\"></script>')"
   ]
  },
  {
   "cell_type": "code",
   "execution_count": null,
   "metadata": {},
   "outputs": [],
   "source": []
  }
 ],
 "metadata": {
  "kernelspec": {
   "display_name": "Python 3",
   "language": "python",
   "name": "python3"
  },
  "language_info": {
   "codemirror_mode": {
    "name": "ipython",
    "version": 3
   },
   "file_extension": ".py",
   "mimetype": "text/x-python",
   "name": "python",
   "nbconvert_exporter": "python",
   "pygments_lexer": "ipython3",
   "version": "3.7.3"
  }
 },
 "nbformat": 4,
 "nbformat_minor": 2
}
